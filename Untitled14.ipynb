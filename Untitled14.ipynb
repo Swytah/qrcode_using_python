{
  "nbformat": 4,
  "nbformat_minor": 0,
  "metadata": {
    "colab": {
      "provenance": []
    },
    "kernelspec": {
      "name": "python3",
      "display_name": "Python 3"
    },
    "language_info": {
      "name": "python"
    }
  },
  "cells": [
    {
      "cell_type": "code",
      "execution_count": null,
      "metadata": {
        "id": "XtB3m5Xv9o3c"
      },
      "outputs": [],
      "source": [
        "!pip install qrcode"
      ]
    },
    {
      "cell_type": "code",
      "source": [
        "!pip install pillow"
      ],
      "metadata": {
        "id": "JkpGM7KI_gGf"
      },
      "execution_count": null,
      "outputs": []
    },
    {
      "cell_type": "code",
      "source": [
        "from PIL import Image\n",
        "import qrcode as qr\n",
        "s=input(\"Enter the url or the text  \")\n",
        "qr=qrcode.QRCode(version=1,\n",
        "                 error_correction=qrcode.constants.ERROR_CORRECT_H,\n",
        "                 box_size=10,border=4)\n",
        "qr.add_data(s)\n",
        "qr.make(fit=True)\n",
        "e=input(\"Enter the colour for the qrcode \")\n",
        "f=input(\"Enter the background colour for the qrcode \")\n",
        "img=qr.make_image(fill_color=str(e) ,back_color=str(f))\n",
        "d=input(\"Enter the name of the qr \")\n",
        "image.save(str(d)+\".png\")"
      ],
      "metadata": {
        "colab": {
          "base_uri": "https://localhost:8080/"
        },
        "id": "fZsxfEINAeAc",
        "outputId": "ab2c47a0-2dc2-44db-a9a4-11d1846e442a"
      },
      "execution_count": 17,
      "outputs": [
        {
          "name": "stdout",
          "output_type": "stream",
          "text": [
            "Enter the url or the text  dog\n",
            "Enter the colour for the qrcodered\n",
            "Enter the background colour for the qrcodeblue\n",
            "Enter the name of the qr dog\n"
          ]
        }
      ]
    }
  ]
}